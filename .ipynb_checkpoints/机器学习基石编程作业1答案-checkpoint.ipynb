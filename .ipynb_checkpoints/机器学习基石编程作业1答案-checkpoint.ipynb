{
 "cells": [
  {
   "cell_type": "code",
   "execution_count": 4,
   "metadata": {},
   "outputs": [
    {
     "data": {
      "text/plain": [
       "45"
      ]
     },
     "execution_count": 4,
     "metadata": {},
     "output_type": "execute_result"
    }
   ],
   "source": [
    "# 机器学习基石编程作业1 15题\n",
    "import pandas as pd\n",
    "import numpy as np\n",
    "import csv\n",
    "\n",
    "def naive_PLA():\n",
    "    updates = 0\n",
    "    w = np.zeros(5)\n",
    "    while True:\n",
    "        halt = True\n",
    "        with open('hw1_15_train.dat') as f:\n",
    "            reader = csv.reader(f, delimiter='\\t')\n",
    "            for line in reader:\n",
    "                x = line[0].split()\n",
    "                x = np.asarray(x)\n",
    "                x = x.astype(np.float)\n",
    "                x = np.insert(x, 0, 1)\n",
    "                y = np.array(line[1], dtype='int')\n",
    "                if np.sign(w.dot(x)) != y:\n",
    "                    updates += 1\n",
    "                    w += y * x\n",
    "                    halt = False\n",
    "        if halt:\n",
    "            break\n",
    "    return updates\n",
    "\n",
    "naive_PLA()"
   ]
  },
  {
   "cell_type": "code",
   "execution_count": 10,
   "metadata": {},
   "outputs": [
    {
     "name": "stdout",
     "output_type": "stream",
     "text": [
      "40.2085\n"
     ]
    }
   ],
   "source": [
    "# 机器学习基石编程作业1 16题\n",
    "\n",
    "import numpy as np\n",
    "import random\n",
    "\n",
    "class random_PLA(object):\n",
    "    def __init__(self, dimension, count):\n",
    "        self.__dimension = dimension\n",
    "        self.__count = count\n",
    "        \n",
    "    def random_Matrix(self, path):\n",
    "        training_set = open(path)\n",
    "        randomList = []\n",
    "        x = []\n",
    "        x_count = 0\n",
    "        for line in training_set:\n",
    "            x.append(1)\n",
    "            for str in line.split(' '):\n",
    "                if len(str.split('\\t')) == 1:\n",
    "                    x.append(float(str))\n",
    "                else:\n",
    "                    x.append(float(str.split('\\t')[0]))\n",
    "                    x.append(int(str.split('\\t')[1].strip()))\n",
    "            randomList.append(x)\n",
    "            x = []\n",
    "            x_count += 1\n",
    "        return randomList\n",
    "    \n",
    "    def train_Matrix(self, path):\n",
    "        X_train = np.zeros((self.__count, self.__dimension))\n",
    "        y_train = np.zeros((self.__count, 1))\n",
    "        randomList = self.random_Matrix(path)\n",
    "#         随机打乱数列顺序\n",
    "        random.shuffle(randomList)   \n",
    "        for i in range(self.__count):\n",
    "            for j in range(self.__dimension):\n",
    "                X_train[i, j] = randomList[i][j]\n",
    "            y_train[i, 0] = randomList[i][self.__dimension]\n",
    "        return X_train, y_train\n",
    "    \n",
    "    def interationCount(self, path):\n",
    "        count = 0\n",
    "        X_train, y_train = self.train_Matrix(path)\n",
    "        w = np.zeros((self.__dimension, 1))\n",
    "        while True:\n",
    "            flag= 0\n",
    "            for i in range(self.__count):\n",
    "                if np.dot(X_train[i, :], w)[0] * y_train[i, 0] <= 0:\n",
    "                    w += y_train[i, 0] * X_train[i, :].reshape(5, 1)\n",
    "                    count += 1\n",
    "                    flag = 1\n",
    "            if flag == 0: \n",
    "                break\n",
    "        return count\n",
    "average_count = 0\n",
    "for i in range(2000):\n",
    "    myPLA = random_PLA(5, 400)\n",
    "    average_count += myPLA.interationCount('hw1_15_train.dat')\n",
    "print(average_count/2000.0)"
   ]
  },
  {
   "cell_type": "code",
   "execution_count": null,
   "metadata": {
    "collapsed": true
   },
   "outputs": [],
   "source": []
  }
 ],
 "metadata": {
  "kernelspec": {
   "display_name": "Python 3",
   "language": "python",
   "name": "python3"
  },
  "language_info": {
   "codemirror_mode": {
    "name": "ipython",
    "version": 3
   },
   "file_extension": ".py",
   "mimetype": "text/x-python",
   "name": "python",
   "nbconvert_exporter": "python",
   "pygments_lexer": "ipython3",
   "version": "3.6.1"
  }
 },
 "nbformat": 4,
 "nbformat_minor": 2
}
