{
 "cells": [
  {
   "cell_type": "markdown",
   "metadata": {},
   "source": [
    "day1\n",
    "\n",
    "什么是机器学习？  \n",
    "电脑模仿某类行为的过程（模拟/模仿过程）,通过数学的方法利用数据来优化电脑的性能。  \n",
    "比如学习看视频，学习识别字体，学习看股票图"
   ]
  },
  {
   "cell_type": "markdown",
   "metadata": {},
   "source": [
    "我们怎么开始机器学习？\n",
    "\n",
    "一切从资料开始，既是数据。"
   ]
  },
  {
   "cell_type": "code",
   "execution_count": null,
   "metadata": {
    "collapsed": true
   },
   "outputs": [],
   "source": []
  }
 ],
 "metadata": {
  "kernelspec": {
   "display_name": "Python 3",
   "language": "python",
   "name": "python3"
  },
  "language_info": {
   "codemirror_mode": {
    "name": "ipython",
    "version": 3
   },
   "file_extension": ".py",
   "mimetype": "text/x-python",
   "name": "python",
   "nbconvert_exporter": "python",
   "pygments_lexer": "ipython3",
   "version": "3.6.1"
  }
 },
 "nbformat": 4,
 "nbformat_minor": 2
}
